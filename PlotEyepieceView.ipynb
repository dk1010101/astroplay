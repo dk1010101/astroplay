{
 "cells": [
  {
   "cell_type": "code",
   "execution_count": 13,
   "id": "00ccb453-ab74-4666-904f-d8526e7ff7e6",
   "metadata": {},
   "outputs": [],
   "source": [
    "from ipywidgets import interact, interactive, fixed, interact_manual\n",
    "import ipywidgets as widgets\n",
    "import matplotlib.pyplot as plt\n",
    "from matplotlib.patches import Ellipse\n",
    "import matplotlib.cm as cm\n",
    "import matplotlib\n",
    "%matplotlib inline\n",
    "import numpy as np\n",
    "\n",
    "from astropy import units as u\n",
    "from astropy.coordinates import SkyCoord, Distance, EarthLocation, AltAz, Angle\n",
    "from astropy.io import fits\n",
    "from astropy.table import QTable\n",
    "from astropy.utils.data import download_file\n",
    "from astropy.time import Time\n",
    "\n",
    "from astroquery.gaia import Gaia\n",
    "\n",
    "Gaia.ROW_LIMIT = 10_000  # Set the row limit for returned data"
   ]
  },
  {
   "cell_type": "code",
   "execution_count": 14,
   "id": "095e7feb-5a3d-4a6d-b753-a7ea089f83c0",
   "metadata": {},
   "outputs": [],
   "source": [
    "# Eyepiece data - DEFINE YOUR OWN HERE - THESE ARE SOME RANDOM ONES\n",
    "ep_po_38 = 132.96 * u.arcmin\n",
    "ep_bct_8 = 24 * u.arcmin\n",
    "ep_bct_5 = 15 * u.arcmin\n",
    "ep_sw_10 = 24.96 * u.arcmin\n",
    "ep_sw_25 = 62.496 * u.arcmin\n",
    "ep_test = 8.6*u.arcmin\n",
    "\n",
    "# Observatory Data - ENTER YOUR LON/LAT - this is currently for the Grenwich observatory prime meridian\n",
    "observatory_loc = EarthLocation.from_geodetic(lon=-0.001545*u.deg, lat=51.477928*u.deg, height=42*u.m)"
   ]
  },
  {
   "cell_type": "code",
   "execution_count": 16,
   "id": "e0715d70-42dd-43d3-84c5-590522a4b448",
   "metadata": {},
   "outputs": [],
   "source": [
    "# OBJECT OF INTEREST\n",
    "object_name = \"NGC 581\"\n",
    "\n",
    "# EYEPIECE\n",
    "ep = ep_bct_8\n",
    "\n",
    "# MINIMUM MAG TO SHOW\n",
    "max_mag = 14*u.mag\n",
    "\n",
    "# SET YOUR DATE/TIME HERE\n",
    "observing_date = Time('2021-12-06 22:30:00')"
   ]
  },
  {
   "cell_type": "code",
   "execution_count": 17,
   "id": "c6ee3301-2b88-4e8c-a21c-97d7aa9c68a7",
   "metadata": {},
   "outputs": [],
   "source": [
    "obj_center = SkyCoord.from_name(object_name)"
   ]
  },
  {
   "cell_type": "code",
   "execution_count": 18,
   "id": "7f2538d4-2115-459b-aaa9-3ebf57a63283",
   "metadata": {},
   "outputs": [],
   "source": [
    "altaz = AltAz(location=observatory_loc, obstime=observing_date)"
   ]
  },
  {
   "cell_type": "code",
   "execution_count": 19,
   "id": "3f5fbae4-487a-4412-a524-2e5456bb931b",
   "metadata": {},
   "outputs": [
    {
     "name": "stdout",
     "output_type": "stream",
     "text": [
      "INFO: Query finished. [astroquery.utils.tap.core]\n"
     ]
    }
   ],
   "source": [
    "job = Gaia.cone_search_async(obj_center, radius=ep/2)\n",
    "obj_data = job.get_results()\n",
    "\n",
    "# obj_data = Simbad.query_region(obj_center, radius=ep/2)"
   ]
  },
  {
   "cell_type": "code",
   "execution_count": 20,
   "id": "9ac9da7b-7405-47a9-9a08-1252f2a1aeec",
   "metadata": {},
   "outputs": [],
   "source": [
    "def plot_function(max_mag, mag_label):\n",
    "    aaz_center = obj_center.transform_to(altaz)\n",
    "    obj_table = obj_data[obj_data['phot_g_mean_mag'] < max_mag]\n",
    "    obj_coords = SkyCoord(ra=obj_table['ra'], dec=obj_table['dec'])\n",
    "    aa_obj_coords = obj_coords.transform_to(altaz)\n",
    "    fig, ax = plt.subplots(figsize=(16, 14), constrained_layout=True)\n",
    "    ep_view = Ellipse((aaz_center.az.deg,aaz_center.alt.deg), (ep).to_value(u.deg), (ep).to_value(u.deg), color='yellow', fill=False)\n",
    "    ax.add_patch(ep_view)\n",
    "    cs = ax.scatter(aa_obj_coords.az.degree, \n",
    "                    aa_obj_coords.alt.degree, \n",
    "                    s=(18-obj_table['phot_g_mean_mag'])**2.512/1.8,\n",
    "                    c=1.3+(1.70-obj_table['astrometric_pseudo_colour']),\n",
    "                    vmin=1.1, vmax = 1.9, cmap='PiYG')\n",
    "    xlim = [aaz_center.az.deg-(ep/2).to_value(u.deg), aaz_center.az.deg+(ep/2).to_value(u.deg)]\n",
    "    ylim = [aaz_center.alt.deg-(ep/2).to_value(u.deg), aaz_center.alt.deg+(ep/2).to_value(u.deg)]\n",
    "    ax.set_xlim(xlim)\n",
    "    ax.set_ylim(ylim)\n",
    "    ax.invert_xaxis()\n",
    "    ax.invert_yaxis()\n",
    "    ax.set_facecolor('xkcd:black')\n",
    "    cb = fig.colorbar(cs)\n",
    "    cb.set_label(f'astrometric pseudo colour [1/um]')\n",
    "\n",
    "    ax.set_xlabel('Azimuth [deg]')\n",
    "    ax.set_ylabel('Alt [deg]')\n",
    "\n",
    "    ax.set_title('Gaia DR2 sources near '+object_name, fontsize=18)\n",
    "    label_max = min(max_mag, mag_label)\n",
    "    obj_l_table = obj_data[obj_data['phot_g_mean_mag'] < label_max]\n",
    "    obj_l_coords = SkyCoord(ra=obj_l_table['ra'], dec=obj_l_table['dec'])\n",
    "    aa_obj_l_coords = obj_l_coords.transform_to(altaz)\n",
    "    for i, obj in enumerate(obj_l_table):\n",
    "        if xlim[0] <= aa_obj_l_coords[i].az.degree <= xlim[1] and ylim[0] <= aa_obj_l_coords[i].alt.degree <= ylim[1]:\n",
    "            ax.text(aa_obj_l_coords[i].az.degree, aa_obj_l_coords[i].alt.degree,\n",
    "                    obj['DESIGNATION'], \n",
    "                    va=\"center\",\n",
    "                    size=(19-obj['phot_g_mean_mag'])*2.512/1.8,\n",
    "                    c=color_map_color((1.90-obj['astrometric_pseudo_colour'])))\n",
    "    ax.grid(linestyle='--', linewidth=0.5)\n",
    "    \n",
    "def color_map_color(value, cmap_name='PiYG', vmin=0, vmax=1):\n",
    "    # norm = plt.Normalize(vmin, vmax)\n",
    "    # norm = matplotlib.colors.Normalize(vmin=vmin, vmax=vmax)\n",
    "    cmap = cm.get_cmap(cmap_name)  # PiYG\n",
    "    rgb = cmap((abs(value)))[:3]  # will return rgba, we take only first 3 so we get rgb\n",
    "    color = matplotlib.colors.rgb2hex(rgb)\n",
    "    return color"
   ]
  },
  {
   "cell_type": "code",
   "execution_count": 21,
   "id": "6091e0d8-6dd0-4aa8-bec6-ff9544bb5595",
   "metadata": {},
   "outputs": [
    {
     "data": {
      "application/vnd.jupyter.widget-view+json": {
       "model_id": "7e9f2ed15f354fc598b541e7b831f965",
       "version_major": 2,
       "version_minor": 0
      },
      "text/plain": [
       "interactive(children=(FloatSlider(value=13.0, description='max_mag', max=18.0, min=1.0, step=0.5), FloatSlider…"
      ]
     },
     "metadata": {},
     "output_type": "display_data"
    },
    {
     "data": {
      "text/plain": [
       "<function __main__.plot_function(max_mag, mag_label)>"
      ]
     },
     "execution_count": 21,
     "metadata": {},
     "output_type": "execute_result"
    }
   ],
   "source": [
    "interact(plot_function, max_mag = widgets.FloatSlider(value=13, min=1, max=18.0, step=.5), mag_label = widgets.FloatSlider(value=9, min=1, max=18.0, step=.5))"
   ]
  },
  {
   "cell_type": "code",
   "execution_count": null,
   "id": "bf09aed2-4990-4250-b759-85b51c4c10f4",
   "metadata": {},
   "outputs": [],
   "source": []
  }
 ],
 "metadata": {
  "kernelspec": {
   "display_name": "Python 3 (ipykernel)",
   "language": "python",
   "name": "python3"
  },
  "language_info": {
   "codemirror_mode": {
    "name": "ipython",
    "version": 3
   },
   "file_extension": ".py",
   "mimetype": "text/x-python",
   "name": "python",
   "nbconvert_exporter": "python",
   "pygments_lexer": "ipython3",
   "version": "3.9.10"
  }
 },
 "nbformat": 4,
 "nbformat_minor": 5
}
